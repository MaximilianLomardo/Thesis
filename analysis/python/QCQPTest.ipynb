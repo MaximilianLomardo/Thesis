{
 "cells": [
  {
   "cell_type": "code",
   "execution_count": 1,
   "metadata": {
    "collapsed": true
   },
   "outputs": [],
   "source": [
    "from numpy.random import randn\n",
    "import cvxpy as cvx\n",
    "from qcqp import *"
   ]
  },
  {
   "cell_type": "code",
   "execution_count": 2,
   "metadata": {
    "collapsed": false
   },
   "outputs": [
    {
     "name": "stdout",
     "output_type": "stream",
     "text": [
      "SDR lower bound: 25.764\n",
      "Coordinate descent: objective 43.031, violation 0.000\n",
      "[[ 1.00000018]\n",
      " [-1.00001633]\n",
      " [-1.00001633]\n",
      " [-0.99998367]\n",
      " [-1.00001633]\n",
      " [-0.99999753]\n",
      " [ 0.99999664]\n",
      " [-1.00001624]\n",
      " [ 1.00001501]\n",
      " [-1.0000001 ]]\n"
     ]
    },
    {
     "name": "stderr",
     "output_type": "stream",
     "text": [
      "C:\\Users\\IBM_ADMIN\\Anaconda2\\lib\\site-packages\\qcqp\\qcqp.py:351: RuntimeWarning: covariance is not positive-semidefinite.\n",
      "  x = np.random.multivariate_normal(self.mu, self.Sigma)\n"
     ]
    }
   ],
   "source": [
    "n, m = 10, 15\n",
    "A = randn(m, n)\n",
    "b = randn(m, 1)\n",
    "\n",
    "# Form a nonconvex problem.\n",
    "x = cvx.Variable(n)\n",
    "obj = cvx.sum_squares(A*x - b)\n",
    "cons = [cvx.square(x) == 1]\n",
    "prob = cvx.Problem(cvx.Minimize(obj), cons)\n",
    "\n",
    "# Create a QCQP handler.\n",
    "qcqp = QCQP(prob)\n",
    "\n",
    "# Solve the SDP relaxation and get a starting point to a local method\n",
    "qcqp.suggest(SDR)\n",
    "print(\"SDR lower bound: %.3f\" % qcqp.sdr_bound)\n",
    "\n",
    "# Attempt to improve the starting point given by the suggest method\n",
    "f_cd, v_cd = qcqp.improve(COORD_DESCENT)\n",
    "print(\"Coordinate descent: objective %.3f, violation %.3f\" % (f_cd, v_cd))\n",
    "print(x.value)"
   ]
  },
  {
   "cell_type": "code",
   "execution_count": null,
   "metadata": {
    "collapsed": true
   },
   "outputs": [],
   "source": []
  }
 ],
 "metadata": {
  "kernelspec": {
   "display_name": "Python 2",
   "language": "python",
   "name": "python2"
  },
  "language_info": {
   "codemirror_mode": {
    "name": "ipython",
    "version": 2
   },
   "file_extension": ".py",
   "mimetype": "text/x-python",
   "name": "python",
   "nbconvert_exporter": "python",
   "pygments_lexer": "ipython2",
   "version": "2.7.13"
  }
 },
 "nbformat": 4,
 "nbformat_minor": 2
}
