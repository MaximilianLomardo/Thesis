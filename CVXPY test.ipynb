{
 "cells": [
  {
   "cell_type": "code",
   "execution_count": 1,
   "metadata": {
    "collapsed": true
   },
   "outputs": [],
   "source": [
    "# for decimal division\n",
    "from __future__ import division\n",
    "import sys\n",
    "\n",
    "import cvxopt\n",
    "import numpy as np\n",
    "from pylab import *\n",
    "import math\n",
    "\n",
    "from cvxpy import *"
   ]
  },
  {
   "cell_type": "code",
   "execution_count": 2,
   "metadata": {
    "collapsed": true
   },
   "outputs": [],
   "source": [
    "# Taken from CVX website http://cvxr.com/cvx/examples/\n",
    "# Derived from Example: Finding the fastest mixing Markov chain on a graph\n",
    "# Ported from cvx matlab to cvxpy by Misrab Faizullah-Khan\n",
    "# Original comments below\n",
    "\n",
    "# Boyd & Vandenberghe, \"Convex Optimization\"\n",
    "# Joelle Skaf - 08/23/05\n",
    "#\n",
    "# Solved a QCQP with 3 inequalities:\n",
    "#           minimize    1/2 x'*P0*x + q0'*r + r0\n",
    "#               s.t.    1/2 x'*Pi*x + qi'*r + ri <= 0   for i=1,2,3\n",
    "# and verifies that strong duality holds."
   ]
  },
  {
   "cell_type": "code",
   "execution_count": 3,
   "metadata": {
    "collapsed": false
   },
   "outputs": [
    {
     "name": "stdout",
     "output_type": "stream",
     "text": [
      "[ 3.57e+00 -1.66e-01 -1.19e+00  4.23e+00 -1.21e+00 -8.15e-01]\n",
      "[-1.66e-01  9.20e-01  1.27e+00  4.19e-01 -1.81e-01  2.28e-01]\n",
      "[-1.19e+00  1.27e+00  5.97e+00 -3.59e+00 -5.72e-01  6.99e-01]\n",
      "[ 4.23e+00  4.19e-01 -3.59e+00  1.32e+01  8.04e-01 -5.37e-01]\n",
      "[-1.21e+00 -1.81e-01 -5.72e-01  8.04e-01  1.77e+00  1.74e+00]\n",
      "[-8.15e-01  2.28e-01  6.99e-01 -5.37e-01  1.74e+00  4.57e+00]\n",
      "\n"
     ]
    }
   ],
   "source": [
    "# Input data\n",
    "n = 6\n",
    "eps = sys.float_info.epsilon\n",
    "\n",
    "P0 = cvxopt.normal(n, n)\n",
    "eye = cvxopt.spmatrix(1.0, range(n), range(n))\n",
    "P0 = P0.T * P0 + eps * eye\n",
    "\n",
    "print P0"
   ]
  },
  {
   "cell_type": "code",
   "execution_count": 6,
   "metadata": {
    "collapsed": false
   },
   "outputs": [],
   "source": [
    "P1 = cvxopt.normal(n, n)\n",
    "P1 = P1.T*P1\n",
    "P2 = cvxopt.normal(n, n)\n",
    "P2 = P2.T*P2\n",
    "P3 = cvxopt.normal(n, n)\n",
    "P3 = P3.T*P3\n",
    "\n",
    "q0 = cvxopt.normal(n, 1)\n",
    "q1 = cvxopt.normal(n, 1)\n",
    "q2 = cvxopt.normal(n, 1)\n",
    "q3 = cvxopt.normal(n, 1)\n",
    "\n",
    "r0 = cvxopt.normal(1, 1)\n",
    "r1 = cvxopt.normal(1, 1)\n",
    "r2 = cvxopt.normal(1, 1)\n",
    "r3 = cvxopt.normal(1, 1)"
   ]
  },
  {
   "cell_type": "code",
   "execution_count": 10,
   "metadata": {
    "collapsed": false
   },
   "outputs": [
    {
     "ename": "TypeError",
     "evalue": "<type 'cvxopt.base.matrix'> is not a valid type for a Constant value.",
     "output_type": "error",
     "traceback": [
      "\u001b[0;31m---------------------------------------------------------------------------\u001b[0m",
      "\u001b[0;31mTypeError\u001b[0m                                 Traceback (most recent call last)",
      "\u001b[0;32m<ipython-input-10-e64c1d03ef6c>\u001b[0m in \u001b[0;36m<module>\u001b[0;34m()\u001b[0m\n\u001b[1;32m      1\u001b[0m \u001b[1;31m# Form the problem\u001b[0m\u001b[1;33m\u001b[0m\u001b[1;33m\u001b[0m\u001b[0m\n\u001b[1;32m      2\u001b[0m \u001b[0mx\u001b[0m \u001b[1;33m=\u001b[0m \u001b[0mVariable\u001b[0m\u001b[1;33m(\u001b[0m\u001b[0mn\u001b[0m\u001b[1;33m)\u001b[0m\u001b[1;33m\u001b[0m\u001b[0m\n\u001b[0;32m----> 3\u001b[0;31m \u001b[0mobjective\u001b[0m \u001b[1;33m=\u001b[0m \u001b[0mMinimize\u001b[0m\u001b[1;33m(\u001b[0m\u001b[1;36m0.5\u001b[0m\u001b[1;33m*\u001b[0m\u001b[0mquad_form\u001b[0m\u001b[1;33m(\u001b[0m\u001b[0mx\u001b[0m\u001b[1;33m,\u001b[0m\u001b[0mP0\u001b[0m\u001b[1;33m)\u001b[0m \u001b[1;33m+\u001b[0m \u001b[0mq0\u001b[0m\u001b[1;33m.\u001b[0m\u001b[0mT\u001b[0m\u001b[1;33m*\u001b[0m\u001b[0mx\u001b[0m\u001b[1;33m)\u001b[0m\u001b[1;33m\u001b[0m\u001b[0m\n\u001b[0m\u001b[1;32m      4\u001b[0m \u001b[1;31m#objective = Minimize( 0.5*quad_form(x,P0) + q0.T*x + r0 )\u001b[0m\u001b[1;33m\u001b[0m\u001b[1;33m\u001b[0m\u001b[0m\n\u001b[1;32m      5\u001b[0m constraints = [ 0.5*quad_form(x,P1) + q1.T*x + r1 <= 0,\n",
      "\u001b[0;32mC:\\Users\\IBM_ADMIN\\Anaconda2\\lib\\site-packages\\cvxpy\\atoms\\quad_form.pyc\u001b[0m in \u001b[0;36mquad_form\u001b[0;34m(x, P)\u001b[0m\n\u001b[1;32m     89\u001b[0m \u001b[1;33m\u001b[0m\u001b[0m\n\u001b[1;32m     90\u001b[0m     \"\"\"\n\u001b[0;32m---> 91\u001b[0;31m     \u001b[0mx\u001b[0m\u001b[1;33m,\u001b[0m \u001b[0mP\u001b[0m \u001b[1;33m=\u001b[0m \u001b[0mmap\u001b[0m\u001b[1;33m(\u001b[0m\u001b[0mExpression\u001b[0m\u001b[1;33m.\u001b[0m\u001b[0mcast_to_const\u001b[0m\u001b[1;33m,\u001b[0m \u001b[1;33m(\u001b[0m\u001b[0mx\u001b[0m\u001b[1;33m,\u001b[0m \u001b[0mP\u001b[0m\u001b[1;33m)\u001b[0m\u001b[1;33m)\u001b[0m\u001b[1;33m\u001b[0m\u001b[0m\n\u001b[0m\u001b[1;32m     92\u001b[0m     \u001b[1;31m# Check dimensions.\u001b[0m\u001b[1;33m\u001b[0m\u001b[1;33m\u001b[0m\u001b[0m\n\u001b[1;32m     93\u001b[0m     \u001b[0mn\u001b[0m \u001b[1;33m=\u001b[0m \u001b[0mP\u001b[0m\u001b[1;33m.\u001b[0m\u001b[0msize\u001b[0m\u001b[1;33m[\u001b[0m\u001b[1;36m0\u001b[0m\u001b[1;33m]\u001b[0m\u001b[1;33m\u001b[0m\u001b[0m\n",
      "\u001b[0;32mC:\\Users\\IBM_ADMIN\\Anaconda2\\lib\\site-packages\\cvxpy\\expressions\\expression.pyc\u001b[0m in \u001b[0;36mcast_to_const\u001b[0;34m(expr)\u001b[0m\n\u001b[1;32m    240\u001b[0m         \"\"\"Converts a non-Expression to a Constant.\n\u001b[1;32m    241\u001b[0m         \"\"\"\n\u001b[0;32m--> 242\u001b[0;31m         \u001b[1;32mreturn\u001b[0m \u001b[0mexpr\u001b[0m \u001b[1;32mif\u001b[0m \u001b[0misinstance\u001b[0m\u001b[1;33m(\u001b[0m\u001b[0mexpr\u001b[0m\u001b[1;33m,\u001b[0m \u001b[0mExpression\u001b[0m\u001b[1;33m)\u001b[0m \u001b[1;32melse\u001b[0m \u001b[0mcvxtypes\u001b[0m\u001b[1;33m.\u001b[0m\u001b[0mconstant\u001b[0m\u001b[1;33m(\u001b[0m\u001b[1;33m)\u001b[0m\u001b[1;33m(\u001b[0m\u001b[0mexpr\u001b[0m\u001b[1;33m)\u001b[0m\u001b[1;33m\u001b[0m\u001b[0m\n\u001b[0m\u001b[1;32m    243\u001b[0m \u001b[1;33m\u001b[0m\u001b[0m\n\u001b[1;32m    244\u001b[0m     \u001b[1;33m@\u001b[0m\u001b[0m_cast_other\u001b[0m\u001b[1;33m\u001b[0m\u001b[0m\n",
      "\u001b[0;32mC:\\Users\\IBM_ADMIN\\Anaconda2\\lib\\site-packages\\cvxpy\\expressions\\constants\\constant.pyc\u001b[0m in \u001b[0;36m__init__\u001b[0;34m(self, value)\u001b[0m\n\u001b[1;32m     37\u001b[0m             \u001b[1;32mif\u001b[0m \u001b[0misinstance\u001b[0m\u001b[1;33m(\u001b[0m\u001b[0mvalue\u001b[0m\u001b[1;33m,\u001b[0m \u001b[0mnp\u001b[0m\u001b[1;33m.\u001b[0m\u001b[0mndarray\u001b[0m\u001b[1;33m)\u001b[0m \u001b[1;32mand\u001b[0m \u001b[0mlen\u001b[0m\u001b[1;33m(\u001b[0m\u001b[0mvalue\u001b[0m\u001b[1;33m.\u001b[0m\u001b[0mshape\u001b[0m\u001b[1;33m)\u001b[0m \u001b[1;33m==\u001b[0m \u001b[1;36m1\u001b[0m\u001b[1;33m:\u001b[0m\u001b[1;33m\u001b[0m\u001b[0m\n\u001b[1;32m     38\u001b[0m                 \u001b[0mself\u001b[0m\u001b[1;33m.\u001b[0m\u001b[0mis_1D_array\u001b[0m \u001b[1;33m=\u001b[0m \u001b[0mTrue\u001b[0m\u001b[1;33m\u001b[0m\u001b[0m\n\u001b[0;32m---> 39\u001b[0;31m             \u001b[0mself\u001b[0m\u001b[1;33m.\u001b[0m\u001b[0m_value\u001b[0m \u001b[1;33m=\u001b[0m \u001b[0mintf\u001b[0m\u001b[1;33m.\u001b[0m\u001b[0mDEFAULT_INTF\u001b[0m\u001b[1;33m.\u001b[0m\u001b[0mconst_to_matrix\u001b[0m\u001b[1;33m(\u001b[0m\u001b[0mvalue\u001b[0m\u001b[1;33m)\u001b[0m\u001b[1;33m\u001b[0m\u001b[0m\n\u001b[0m\u001b[1;32m     40\u001b[0m             \u001b[0mself\u001b[0m\u001b[1;33m.\u001b[0m\u001b[0m_sparse\u001b[0m \u001b[1;33m=\u001b[0m \u001b[0mFalse\u001b[0m\u001b[1;33m\u001b[0m\u001b[0m\n\u001b[1;32m     41\u001b[0m         \u001b[1;31m# Set DCP attributes.\u001b[0m\u001b[1;33m\u001b[0m\u001b[1;33m\u001b[0m\u001b[0m\n",
      "\u001b[0;32mC:\\Users\\IBM_ADMIN\\Anaconda2\\lib\\site-packages\\cvxpy\\interface\\base_matrix_interface.pyc\u001b[0m in \u001b[0;36mnew_converter\u001b[0;34m(self, value, convert_scalars)\u001b[0m\n\u001b[1;32m     43\u001b[0m     \u001b[1;32mdef\u001b[0m \u001b[0mscalar_const\u001b[0m\u001b[1;33m(\u001b[0m\u001b[0mconverter\u001b[0m\u001b[1;33m)\u001b[0m\u001b[1;33m:\u001b[0m\u001b[1;33m\u001b[0m\u001b[0m\n\u001b[1;32m     44\u001b[0m         \u001b[1;32mdef\u001b[0m \u001b[0mnew_converter\u001b[0m\u001b[1;33m(\u001b[0m\u001b[0mself\u001b[0m\u001b[1;33m,\u001b[0m \u001b[0mvalue\u001b[0m\u001b[1;33m,\u001b[0m \u001b[0mconvert_scalars\u001b[0m\u001b[1;33m=\u001b[0m\u001b[0mFalse\u001b[0m\u001b[1;33m)\u001b[0m\u001b[1;33m:\u001b[0m\u001b[1;33m\u001b[0m\u001b[0m\n\u001b[0;32m---> 45\u001b[0;31m             \u001b[1;32mif\u001b[0m \u001b[1;32mnot\u001b[0m \u001b[0mconvert_scalars\u001b[0m \u001b[1;32mand\u001b[0m \u001b[0mcvxpy\u001b[0m\u001b[1;33m.\u001b[0m\u001b[0minterface\u001b[0m\u001b[1;33m.\u001b[0m\u001b[0mmatrix_utilities\u001b[0m\u001b[1;33m.\u001b[0m\u001b[0mis_scalar\u001b[0m\u001b[1;33m(\u001b[0m\u001b[0mvalue\u001b[0m\u001b[1;33m)\u001b[0m\u001b[1;33m:\u001b[0m\u001b[1;33m\u001b[0m\u001b[0m\n\u001b[0m\u001b[1;32m     46\u001b[0m                 \u001b[1;32mreturn\u001b[0m \u001b[0mcvxpy\u001b[0m\u001b[1;33m.\u001b[0m\u001b[0minterface\u001b[0m\u001b[1;33m.\u001b[0m\u001b[0mmatrix_utilities\u001b[0m\u001b[1;33m.\u001b[0m\u001b[0mscalar_value\u001b[0m\u001b[1;33m(\u001b[0m\u001b[0mvalue\u001b[0m\u001b[1;33m)\u001b[0m\u001b[1;33m\u001b[0m\u001b[0m\n\u001b[1;32m     47\u001b[0m             \u001b[1;32melse\u001b[0m\u001b[1;33m:\u001b[0m\u001b[1;33m\u001b[0m\u001b[0m\n",
      "\u001b[0;32mC:\\Users\\IBM_ADMIN\\Anaconda2\\lib\\site-packages\\cvxpy\\interface\\matrix_utilities.pyc\u001b[0m in \u001b[0;36mis_scalar\u001b[0;34m(constant)\u001b[0m\n\u001b[1;32m    145\u001b[0m \u001b[1;33m\u001b[0m\u001b[0m\n\u001b[1;32m    146\u001b[0m \u001b[1;32mdef\u001b[0m \u001b[0mis_scalar\u001b[0m\u001b[1;33m(\u001b[0m\u001b[0mconstant\u001b[0m\u001b[1;33m)\u001b[0m\u001b[1;33m:\u001b[0m\u001b[1;33m\u001b[0m\u001b[0m\n\u001b[0;32m--> 147\u001b[0;31m     \u001b[1;32mreturn\u001b[0m \u001b[0msize\u001b[0m\u001b[1;33m(\u001b[0m\u001b[0mconstant\u001b[0m\u001b[1;33m)\u001b[0m \u001b[1;33m==\u001b[0m \u001b[1;33m(\u001b[0m\u001b[1;36m1\u001b[0m\u001b[1;33m,\u001b[0m \u001b[1;36m1\u001b[0m\u001b[1;33m)\u001b[0m\u001b[1;33m\u001b[0m\u001b[0m\n\u001b[0m\u001b[1;32m    148\u001b[0m \u001b[1;33m\u001b[0m\u001b[0m\n\u001b[1;32m    149\u001b[0m \u001b[1;33m\u001b[0m\u001b[0m\n",
      "\u001b[0;32mC:\\Users\\IBM_ADMIN\\Anaconda2\\lib\\site-packages\\cvxpy\\interface\\matrix_utilities.pyc\u001b[0m in \u001b[0;36msize\u001b[0;34m(constant)\u001b[0m\n\u001b[1;32m    133\u001b[0m         \u001b[1;32mreturn\u001b[0m \u001b[0mINTERFACES\u001b[0m\u001b[1;33m[\u001b[0m\u001b[0msp\u001b[0m\u001b[1;33m.\u001b[0m\u001b[0mcsc_matrix\u001b[0m\u001b[1;33m]\u001b[0m\u001b[1;33m.\u001b[0m\u001b[0msize\u001b[0m\u001b[1;33m(\u001b[0m\u001b[0mconstant\u001b[0m\u001b[1;33m)\u001b[0m\u001b[1;33m\u001b[0m\u001b[0m\n\u001b[1;32m    134\u001b[0m     \u001b[1;32melse\u001b[0m\u001b[1;33m:\u001b[0m\u001b[1;33m\u001b[0m\u001b[0m\n\u001b[0;32m--> 135\u001b[0;31m         \u001b[1;32mraise\u001b[0m \u001b[0mTypeError\u001b[0m\u001b[1;33m(\u001b[0m\u001b[1;34m\"%s is not a valid type for a Constant value.\"\u001b[0m \u001b[1;33m%\u001b[0m \u001b[0mtype\u001b[0m\u001b[1;33m(\u001b[0m\u001b[0mconstant\u001b[0m\u001b[1;33m)\u001b[0m\u001b[1;33m)\u001b[0m\u001b[1;33m\u001b[0m\u001b[0m\n\u001b[0m\u001b[1;32m    136\u001b[0m \u001b[1;33m\u001b[0m\u001b[0m\n\u001b[1;32m    137\u001b[0m \u001b[1;31m# Is the constant a column vector?\u001b[0m\u001b[1;33m\u001b[0m\u001b[1;33m\u001b[0m\u001b[0m\n",
      "\u001b[0;31mTypeError\u001b[0m: <type 'cvxopt.base.matrix'> is not a valid type for a Constant value."
     ]
    }
   ],
   "source": [
    "# Form the problem\n",
    "x = Variable(n)\n",
    "objective = Minimize(0.5*quad_form(x,P0) + q0.T*x)\n",
    "#objective = Minimize( 0.5*quad_form(x,P0) + q0.T*x + r0 )\n",
    "constraints = [ 0.5*quad_form(x,P1) + q1.T*x + r1 <= 0,\n",
    "                0.5*quad_form(x,P2) + q2.T*x + r2 <= 0,\n",
    "                0.5*quad_form(x,P3) + q3.T*x + r3 <= 0\n",
    "               ]"
   ]
  },
  {
   "cell_type": "code",
   "execution_count": 11,
   "metadata": {
    "collapsed": true
   },
   "outputs": [],
   "source": [
    "import cvxpy as cvx\n",
    "import numpy as np\n",
    "\n",
    "# Make random input repeatable. \n",
    "np.random.seed(0) \n",
    "\n",
    "# Matrix size parameters.\n",
    "n = 20\n",
    "m = 10\n",
    "p = 5\n",
    "\n",
    "# Generate random problem data.\n",
    "tmp = np.mat(np.random.rand(n, 1))\n",
    "A = np.mat(np.random.randn(m, n))\n",
    "b = A*tmp\n",
    "F = np.mat(np.random.randn(p, n))\n",
    "g = F*tmp + np.mat(np.random.rand(p, 1))"
   ]
  },
  {
   "cell_type": "code",
   "execution_count": 12,
   "metadata": {
    "collapsed": false
   },
   "outputs": [
    {
     "name": "stdout",
     "output_type": "stream",
     "text": [
      "     pcost       dcost       gap    pres   dres\n",
      " 0:  0.0000e+00 -7.5220e+00  2e+01  1e+00  1e+00\n",
      " 1: -6.0720e+00 -5.9875e+00  2e+00  1e-01  2e-01\n",
      " 2: -5.4688e+00 -5.5885e+00  4e-01  2e-02  5e-02\n",
      " 3: -5.4595e+00 -5.4889e+00  5e-02  2e-03  2e-02\n",
      " 4: -5.4763e+00 -5.4816e+00  1e-02  3e-04  7e-03\n",
      " 5: -5.4804e+00 -5.4809e+00  1e-03  4e-05  2e-03\n",
      " 6: -5.4809e+00 -5.4809e+00  3e-05  1e-06  4e-04\n",
      " 7: -5.4809e+00 -5.4809e+00  4e-07  1e-08  2e-05\n",
      " 8: -5.4809e+00 -5.4809e+00  4e-09  1e-10  3e-07\n",
      " 9: -5.4809e+00 -5.4809e+00  4e-11  1e-12  5e-09\n",
      "Optimal solution found.\n",
      "\n",
      "The optimal value is: 5.48090148635\n",
      "\n",
      "The optimal solution is:\n",
      "[[ 0.43483319]\n",
      " [ 0.66111715]\n",
      " [ 0.49201039]\n",
      " [ 0.36030618]\n",
      " [ 0.38416629]\n",
      " [ 0.30283658]\n",
      " [ 0.41730232]\n",
      " [ 0.79107794]\n",
      " [ 0.76667302]\n",
      " [ 0.38292365]\n",
      " [ 1.2479328 ]\n",
      " [ 0.50416987]\n",
      " [ 0.68053832]\n",
      " [ 0.67163958]\n",
      " [ 0.13877259]\n",
      " [ 0.5248668 ]\n",
      " [ 0.08418897]\n",
      " [ 0.56927148]\n",
      " [ 0.50000248]\n",
      " [ 0.78291311]]\n"
     ]
    }
   ],
   "source": [
    "# Entropy maximization.\n",
    "x = cvx.Variable(n)\n",
    "obj = cvx.Maximize(cvx.sum_entries(cvx.entr(x)))\n",
    "constraints = [A*x == b,\n",
    "               F*x <= g ]\n",
    "prob = cvx.Problem(obj, constraints)\n",
    "prob.solve(solver=cvx.CVXOPT, verbose=True)\n",
    "\n",
    "# Print result.\n",
    "print \"\\nThe optimal value is:\", prob.value\n",
    "print '\\nThe optimal solution is:'\n",
    "print x.value"
   ]
  },
  {
   "cell_type": "markdown",
   "metadata": {},
   "source": [
    "## QCQP"
   ]
  },
  {
   "cell_type": "code",
   "execution_count": null,
   "metadata": {
    "collapsed": true
   },
   "outputs": [],
   "source": [
    "cvx.QCQP()"
   ]
  },
  {
   "cell_type": "code",
   "execution_count": 18,
   "metadata": {
    "collapsed": true
   },
   "outputs": [],
   "source": [
    "def dec_to_bin(number):\n",
    "    \n",
    "    if number < 2:\n",
    "        \n",
    "        return str(number)\n",
    "    \n",
    "    else:\n",
    "        \n",
    "        return dec_to_bin((input/2)) + str(input%2)"
   ]
  },
  {
   "cell_type": "code",
   "execution_count": 19,
   "metadata": {
    "collapsed": false
   },
   "outputs": [
    {
     "ename": "TypeError",
     "evalue": "unsupported operand type(s) for /: 'function' and 'int'",
     "output_type": "error",
     "traceback": [
      "\u001b[0;31m---------------------------------------------------------------------------\u001b[0m",
      "\u001b[0;31mTypeError\u001b[0m                                 Traceback (most recent call last)",
      "\u001b[0;32m<ipython-input-19-0d99ab1a29e5>\u001b[0m in \u001b[0;36m<module>\u001b[0;34m()\u001b[0m\n\u001b[0;32m----> 1\u001b[0;31m \u001b[0mdec_to_bin\u001b[0m\u001b[1;33m(\u001b[0m\u001b[1;36m6\u001b[0m\u001b[1;33m)\u001b[0m\u001b[1;33m\u001b[0m\u001b[0m\n\u001b[0m",
      "\u001b[0;32m<ipython-input-18-15672ba3b22e>\u001b[0m in \u001b[0;36mdec_to_bin\u001b[0;34m(number)\u001b[0m\n\u001b[1;32m      7\u001b[0m     \u001b[1;32melse\u001b[0m\u001b[1;33m:\u001b[0m\u001b[1;33m\u001b[0m\u001b[0m\n\u001b[1;32m      8\u001b[0m \u001b[1;33m\u001b[0m\u001b[0m\n\u001b[0;32m----> 9\u001b[0;31m         \u001b[1;32mreturn\u001b[0m \u001b[0mdec_to_bin\u001b[0m\u001b[1;33m(\u001b[0m\u001b[1;33m(\u001b[0m\u001b[0minput\u001b[0m\u001b[1;33m/\u001b[0m\u001b[1;36m2\u001b[0m\u001b[1;33m)\u001b[0m\u001b[1;33m)\u001b[0m \u001b[1;33m+\u001b[0m \u001b[0mstr\u001b[0m\u001b[1;33m(\u001b[0m\u001b[0minput\u001b[0m\u001b[1;33m%\u001b[0m\u001b[1;36m2\u001b[0m\u001b[1;33m)\u001b[0m\u001b[1;33m\u001b[0m\u001b[0m\n\u001b[0m",
      "\u001b[0;31mTypeError\u001b[0m: unsupported operand type(s) for /: 'function' and 'int'"
     ]
    }
   ],
   "source": [
    "dec_to_bin(6)"
   ]
  },
  {
   "cell_type": "code",
   "execution_count": 14,
   "metadata": {
    "collapsed": true
   },
   "outputs": [],
   "source": [
    "test = [1,5,3,6,8,4,8,2,5,7]"
   ]
  },
  {
   "cell_type": "code",
   "execution_count": 15,
   "metadata": {
    "collapsed": false
   },
   "outputs": [
    {
     "data": {
      "text/plain": [
       "[1, 2, 3, 4, 5, 5, 6, 7, 8, 8]"
      ]
     },
     "execution_count": 15,
     "metadata": {},
     "output_type": "execute_result"
    }
   ],
   "source": [
    "bubble_sort(test)"
   ]
  },
  {
   "cell_type": "code",
   "execution_count": 20,
   "metadata": {
    "collapsed": false
   },
   "outputs": [
    {
     "data": {
      "text/plain": [
       "True"
      ]
     },
     "execution_count": 20,
     "metadata": {},
     "output_type": "execute_result"
    }
   ],
   "source": [
    "1 and 2 < 3"
   ]
  },
  {
   "cell_type": "code",
   "execution_count": 21,
   "metadata": {
    "collapsed": true
   },
   "outputs": [],
   "source": [
    "a = None\n",
    "b = None\n",
    "c = None"
   ]
  },
  {
   "cell_type": "code",
   "execution_count": 22,
   "metadata": {
    "collapsed": true
   },
   "outputs": [],
   "source": [
    "a and b == c"
   ]
  },
  {
   "cell_type": "code",
   "execution_count": 23,
   "metadata": {
    "collapsed": true
   },
   "outputs": [],
   "source": [
    "gin = [[1,10], [5,8], [8,15]]"
   ]
  },
  {
   "cell_type": "code",
   "execution_count": 30,
   "metadata": {
    "collapsed": false
   },
   "outputs": [
    {
     "data": {
      "text/plain": [
       "15"
      ]
     },
     "execution_count": 30,
     "metadata": {},
     "output_type": "execute_result"
    }
   ],
   "source": [
    "max(max(gin))"
   ]
  },
  {
   "cell_type": "code",
   "execution_count": 31,
   "metadata": {
    "collapsed": false
   },
   "outputs": [
    {
     "data": {
      "text/plain": [
       "1"
      ]
     },
     "execution_count": 31,
     "metadata": {},
     "output_type": "execute_result"
    }
   ],
   "source": [
    "min(min(gin))"
   ]
  },
  {
   "cell_type": "code",
   "execution_count": 36,
   "metadata": {
    "collapsed": true
   },
   "outputs": [],
   "source": [
    "test = [[1, 0, 1], [1, 0, 1], [1, 0, 1]]"
   ]
  },
  {
   "cell_type": "code",
   "execution_count": 37,
   "metadata": {
    "collapsed": false
   },
   "outputs": [
    {
     "data": {
      "text/plain": [
       "[[1, 1, 1], [0, 0, 0], [1, 1, 1]]"
      ]
     },
     "execution_count": 37,
     "metadata": {},
     "output_type": "execute_result"
    }
   ],
   "source": [
    "[list(item) for item in zip(*test)]"
   ]
  },
  {
   "cell_type": "code",
   "execution_count": null,
   "metadata": {
    "collapsed": true
   },
   "outputs": [],
   "source": []
  }
 ],
 "metadata": {
  "kernelspec": {
   "display_name": "Python 2",
   "language": "python",
   "name": "python2"
  },
  "language_info": {
   "codemirror_mode": {
    "name": "ipython",
    "version": 2
   },
   "file_extension": ".py",
   "mimetype": "text/x-python",
   "name": "python",
   "nbconvert_exporter": "python",
   "pygments_lexer": "ipython2",
   "version": "2.7.13"
  }
 },
 "nbformat": 4,
 "nbformat_minor": 2
}
